{
 "cells": [
  {
   "cell_type": "code",
   "execution_count": 1,
   "id": "f3ea2335-cf63-4587-9446-a739d1715be4",
   "metadata": {},
   "outputs": [],
   "source": [
    "import pandas as pd\n",
    "import re\n",
    "import numpy as np\n",
    "from sklearn.model_selection import train_test_split"
   ]
  },
  {
   "cell_type": "code",
   "execution_count": 2,
   "id": "770b8e0a-a078-465b-80fe-63d374255f86",
   "metadata": {},
   "outputs": [],
   "source": [
    "# Defina o caminho para o arquivo train.csv\n",
    "file_path = r'C:\\Users\\Kkk\\3D Objects\\HCT\\df_imputed.csv'\n",
    "\n",
    "# Leia o arquivo CSV\n",
    "df = pd.read_csv(file_path)\n",
    "df2 = df.copy()\n",
    "# Exiba as primeiras linhas do dataframe\n",
    "#df.head()\n"
   ]
  },
  {
   "cell_type": "code",
   "execution_count": 3,
   "id": "06d8b6af-d992-4e9b-ba89-0d99b93c1fc7",
   "metadata": {},
   "outputs": [
    {
     "name": "stdout",
     "output_type": "stream",
     "text": [
      "Tamanho da amostra final: 10000\n",
      "Amostra salva em 'amostra_estratificada_final.csv'\n"
     ]
    }
   ],
   "source": [
    "# Definir os estratos\n",
    "estratos = ['age_at_hct', 'ethnicity', 'race_group', 'sex_match', 'graft_type']\n",
    "\n",
    "# Criar a amostra estratificada\n",
    "df_sample = df.groupby(estratos, group_keys=False).apply(lambda x: x.sample(frac=1.0, random_state=1))\n",
    "\n",
    "# Se a amostra for maior que 10.000 linhas, amostrar novamente para reduzir para 10.000 linhas\n",
    "if len(df_sample) > 10000:\n",
    "    df_sample = df_sample.sample(n=10000, random_state=1)\n",
    "else:\n",
    "    # Se a amostra for menor que 10.000 linhas, complementar com amostras aleatórias do DataFrame original\n",
    "    df_sample = pd.concat([df_sample, df.drop(df_sample.index).sample(n=10000 - len(df_sample), random_state=1)])\n",
    "\n",
    "# Verificar o tamanho da amostra final\n",
    "print(f\"Tamanho da amostra final: {len(df_sample)}\")\n",
    "\n",
    "# Salvar a amostra final em um arquivo CSV\n",
    "df_sample.to_csv('amostra_estratificada_final.csv', index=False)\n",
    "print(\"Amostra salva em 'amostra_estratificada_final.csv'\")\n"
   ]
  }
 ],
 "metadata": {
  "kernelspec": {
   "display_name": "Python 3 (ipykernel)",
   "language": "python",
   "name": "python3"
  },
  "language_info": {
   "codemirror_mode": {
    "name": "ipython",
    "version": 3
   },
   "file_extension": ".py",
   "mimetype": "text/x-python",
   "name": "python",
   "nbconvert_exporter": "python",
   "pygments_lexer": "ipython3",
   "version": "3.8.20"
  }
 },
 "nbformat": 4,
 "nbformat_minor": 5
}
